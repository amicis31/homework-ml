{
 "cells": [
  {
   "cell_type": "markdown",
   "id": "dd3c06b2",
   "metadata": {},
   "source": [
    "## Problem 1.4\n",
    "\n",
    "A friend comes to you with a learning problem. She says the target function $f$ is *completely* unknown, but she has 4000 data points. She is willing to pay you to solve her problem and produce for her a $g$ which approximates $f$. What is the best that you can promise her among the following:\n",
    "\n",
    "1. After learning you will provide her with a $g$ that you will guarantee approximates $f$ well out of sample.\n",
    "  \n",
    "2. After learning you will provide her with a $g$, and with high probability the $g$ which you produce will approximate $f$ well out of sample\n",
    "  \n",
    "3. One of two things will happen.\n",
    "  \n",
    "  1. You will produce a hypothesis $g$;\n",
    "    \n",
    "  2. You will declare that you failed.\n",
    "    \n",
    "  \n",
    "  If you do return a hypothesis $g$, then with high probability the $g$ which you produce will approximate $f$ well out of sample.\n",
    "  \n",
    "\n",
    "C. The reason is because even if we 4000 data points as $f$ is completely unknown we maybe cannot learn a particular $f$ but if we are using a reasonable hypothesis set $\\mathcal{H}$ that gives us a good Hoeffding bound, our success or failure can be determined by the success or failure of fitting the training data."
   ]
  },
  {
   "cell_type": "code",
   "execution_count": null,
   "id": "a77dd4f2",
   "metadata": {},
   "outputs": [],
   "source": []
  }
 ],
 "metadata": {
  "kernelspec": {
   "display_name": "Python 3",
   "language": "python",
   "name": "python3"
  },
  "language_info": {
   "codemirror_mode": {
    "name": "ipython",
    "version": 3
   },
   "file_extension": ".py",
   "mimetype": "text/x-python",
   "name": "python",
   "nbconvert_exporter": "python",
   "pygments_lexer": "ipython3",
   "version": "3.9.4"
  }
 },
 "nbformat": 4,
 "nbformat_minor": 5
}
