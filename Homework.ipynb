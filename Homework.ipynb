{
 "cells": [
  {
   "cell_type": "markdown",
   "id": "olive-rescue",
   "metadata": {},
   "source": [
    "# First Homework"
   ]
  },
  {
   "cell_type": "markdown",
   "id": "normal-communication",
   "metadata": {},
   "source": [
    "Name: Juan David Valencia"
   ]
  },
  {
   "cell_type": "markdown",
   "id": "removed-amendment",
   "metadata": {},
   "source": [
    "## 1.2"
   ]
  },
  {
   "cell_type": "markdown",
   "id": "affected-encoding",
   "metadata": {},
   "source": [
    "Suppose that we use a perceptron to detect spam messages. Let's say that each email message is represented by the frequency of occurrence of keywords, and the output is $+1$ if the message is considered spam."
   ]
  },
  {
   "cell_type": "markdown",
   "id": "reasonable-copper",
   "metadata": {},
   "source": [
    "1. Can you think of some keywords that will end up with a large positive weight in the perceptron?\n",
    "\n",
    "2. How about the keywords that will get a negative weight?\n",
    "\n",
    "3. What parameter in the perceptron directly affects how many boder-line messages end up being classified as spam?"
   ]
  },
  {
   "cell_type": "markdown",
   "id": "charming-advertiser",
   "metadata": {},
   "source": [
    "### Respuestas"
   ]
  },
  {
   "cell_type": "markdown",
   "id": "aerial-infrastructure",
   "metadata": {},
   "source": [
    "1. The words imply a gain or desire to put the victim on an emotional state, which hinders thinking. Some examples are:\n",
    "  - FREE\n",
    "  - 100%\n",
    "  - Bargain\n",
    "  - Deal\n",
    "  - Cash\n",
    "  - Loan\n",
    "\n",
    "2. Words used in formal speech don't tend to be used on spam. Examples of this words are:\n",
    "  - Dear\n",
    "  - Please\n",
    "  - Apologies\n",
    "  - Morning\n",
    "  - Thanks\n",
    "\n",
    "3. In the function $h(\\mathbf{x})$ we note that the to be on a border-line is to the same as to be on the threshold. This means that our selection of $b$ (the threshold) directly affects how many of the border messages are going to end up as spam."
   ]
  },
  {
   "cell_type": "markdown",
   "id": "atmospheric-ministry",
   "metadata": {},
   "source": [
    "## 1.3"
   ]
  },
  {
   "cell_type": "markdown",
   "id": "absent-pizza",
   "metadata": {},
   "source": [
    "The weight update rule in (1.3) has the nice interpretation that it moves in the direction of classifying $\\mathbf{x}(t)$ correctly."
   ]
  },
  {
   "cell_type": "markdown",
   "id": "optical-salad",
   "metadata": {},
   "source": [
    "1. Show that $y(t)\\mathbf{w}^T(t) \\mathbf{x}(t) < 0$.\n",
    "\n",
    "2. Show that $y(t) \\mathbf{w}^T (t + 1) \\mathbf{x}(t) > y(t)\\mathbf{w}^T \\mathbf{x}(t)$\n",
    "\n",
    "3. As far as classifying $\\mathbf{x}(t)$ is concerned, argue that the move from $\\mathbf{w}(t)$ to $\\mathbf{w}(t + 1)$ is a move 'in the right direction'."
   ]
  },
  {
   "cell_type": "markdown",
   "id": "fleet-publicity",
   "metadata": {},
   "source": [
    "### Respuestas"
   ]
  },
  {
   "cell_type": "markdown",
   "id": "demographic-coaching",
   "metadata": {},
   "source": [
    "**1**"
   ]
  },
  {
   "cell_type": "markdown",
   "id": "experienced-zambia",
   "metadata": {},
   "source": [
    "We only need to notice that 'cause $\\mathbf{w}^T(t)$ misclassify $\\mathbf{x}(t)$ then the product of this two elements have a sign different from $y(t)$.\n",
    "\n",
    "$$\n",
    "    \\text{sign}(\\mathbf{w}^T(t) \\mathbf{x}(t)) \\neq \\text{sign}(y(t))\n",
    "$$\n",
    "\n",
    "Multiply $\\text{sign}(y(t))$ in th e equation and we have\n",
    "$$\n",
    "    \\text{sign}(\\mathbf{w}^T(t)  \\mathbf{x}(t)) \\cdot \\text{sign}(y(t)) \\neq 1\n",
    "$$\n",
    "\n",
    "Then because of the nature of $\\text{sign}()$ we have that \n",
    "$$\n",
    " \\text{sign}(\\mathbf{w}^T(t)  \\mathbf{x}(t)) \\cdot \\text{sign}(y(t)) =  -1\n",
    "$$\n",
    "\n",
    "And that \n",
    "$$\n",
    "\\mathbf{w}^T(t)  \\mathbf{x}(t)  (y(t)) < 0\n",
    "$$"
   ]
  },
  {
   "cell_type": "markdown",
   "id": "affiliated-completion",
   "metadata": {},
   "source": [
    "**2**"
   ]
  },
  {
   "cell_type": "markdown",
   "id": "earned-arkansas",
   "metadata": {},
   "source": [
    "We know that $\\mathbf{w}(t+1) = \\mathbf{w}(t) + y(t)\\mathbf{x}(t)$. Then replacing we need to prove that.\n",
    "$$\n",
    "y(t) (\\mathbf{w}(t) + y(t)\\mathbf{x}(t))^T \\mathbf{x}(t) > y(t)\\mathbf{w}^T \\mathbf{x}(t)\n",
    "$$\n",
    "\n",
    "We see that the first part of the inequality is equivalent to\n",
    "$$\n",
    "y(t) (\\mathbf{w}(t) + y(t)\\mathbf{x}(t))^T \\mathbf{x}(t) = ( y(t)\\mathbf{w}(t) + y^2(t)\\mathbf{x}(t))^T \\mathbf{x}(t)\n",
    "$$\n",
    "\n",
    "And \n",
    "$$\n",
    " = y(t)\\mathbf{w}^T(t)\\mathbf{x}(t) + y(t)^2 \\mathbf{x}^T(t) \\mathbf{x}(t)\n",
    "$$\n",
    "\n",
    "Now we know that we only need to prove that $y(t)^2 \\mathbf{x}^T(t) \\mathbf{x}(t)$ > 0. We know that $y(t) \\in \\{ +1, -1 \\}$ so $y(t)^2 > 0$.\n",
    "\n",
    "And we know that the dot product between a vector and itself is always positive. (All the elements are multiply with themselves)"
   ]
  },
  {
   "cell_type": "markdown",
   "id": "second-shanghai",
   "metadata": {},
   "source": [
    "**3**"
   ]
  },
  {
   "cell_type": "markdown",
   "id": "collect-waterproof",
   "metadata": {},
   "source": [
    "We can use the equation (1.3) to try to show that the next interation will be going to the right direction:\n",
    "\n",
    "$$\n",
    "\\mathbf{w}(t + 1) = \\mathbf{w}(t) + y(t)\\mathbf{x}(t)\n",
    "$$\n",
    "\n",
    "We multiply by $\\mathbf{x}^T(x)$ to try to check the next the value that is going to be in the sign function\n",
    "\n",
    "\n",
    "$$\n",
    "\\mathbf{w}(t+1)\\mathbf{x}^T(x) = \\mathbf{w}(t) \\mathbf{x}^T(t) + y(t) || \\mathbf{x}(t) || \n",
    "$$\n",
    "\n",
    "We know that $y(t) \\in \\{+1, -1\\}$, so now we know that the input in the sign will change by a factor of $|| \\mathbf{x}(t) ||$ in the direction of the sign of the real classification. If is positive and misclassified then reduce by $|| \\mathbf{x}(t) ||$  and if is negative and misclassified then aument for a factor by $|| \\mathbf{x}(t) ||$ "
   ]
  },
  {
   "cell_type": "markdown",
   "id": "reserved-medicine",
   "metadata": {},
   "source": [
    "## 1.10"
   ]
  },
  {
   "cell_type": "markdown",
   "id": "spanish-optics",
   "metadata": {},
   "source": [
    "Here is an experiment that illustrates the difference between a single bin and multiple bins. Run a computer simulation for flipping 1000 fair coins.\n",
    "Flip each coin independently 10 times. Let's focus on 3 coins as follows:\n",
    "\n",
    "$c_1$ is the first coin flipped; $c_{rand}$ is a coin you choose at random; $c_{min}$ is the coin that had the minimum frequency of heads (pick the earlier one in case of a tie). Let $v_1$, $v_{rand}$ and $v_{min}$ be the fraction of heads you obtain for the respective three coins."
   ]
  },
  {
   "cell_type": "markdown",
   "id": "interior-brush",
   "metadata": {},
   "source": [
    "1. What is $\\mu$ for the three coins selected?\n",
    "\n",
    "2. Repeat this entire experiment a large number of times (e.g 100000 runs of the entire experiment) to get several intances of $v_1$ , $v_{rand}$ and $v_{min}$ and plot the histograms of the distributions of $v_1$, $v_{rand}$ and $v_{min}$. Notice that which coins end up being $c_{rand}$ and $c_{min}$ may differ from one run to another.\n",
    "\n",
    "3. Using (2), plot estimates for $\\mathbb{P}[|v - \\mu| > \\epsilon]$ as a function of $\\epsilon$, together with the Hoeffding bound $2e^{-2\\epsilon^2N}$ (on the same graph).\n",
    "\n",
    "4. Which coins obey the Hoeffding bound, and which ones do not? Explain why.\n",
    "\n",
    "5. Relate part (4) to the multiple bins in Figure 1.10"
   ]
  },
  {
   "cell_type": "markdown",
   "id": "surprised-better",
   "metadata": {},
   "source": [
    "### Respuestas"
   ]
  },
  {
   "cell_type": "code",
   "execution_count": 1,
   "id": "dress-falls",
   "metadata": {},
   "outputs": [],
   "source": [
    "import numpy as np\n",
    "import random\n",
    "import seaborn as sns\n",
    "import matplotlib.pyplot as plt\n",
    "from IPython.display import display, Markdown, Latex, Math\n",
    "sns.set_theme(style=\"darkgrid\")"
   ]
  },
  {
   "cell_type": "code",
   "execution_count": 2,
   "id": "earlier-highlight",
   "metadata": {},
   "outputs": [],
   "source": [
    "def experiment():\n",
    "    data = np.random.randint(0, 2, size=(10, 1000))\n",
    "    count_by_coins = [(x.sum(), pos) for pos, x in enumerate(data)]\n",
    "    # Select the coins\n",
    "    first_coin = data[0]\n",
    "    random_coin = data[random.randint(0, 9)]\n",
    "    min_coin = data[min(count_by_coins)[1]]\n",
    "\n",
    "    # Find out the v\n",
    "    v_first = first_coin.sum()/len(first_coin)\n",
    "    v_random = random_coin.sum()/len(random_coin)\n",
    "    v_min = min_coin.sum()/len(min_coin)\n",
    "    return [first_coin, random_coin, min_coin, v_first, v_random, v_min]"
   ]
  },
  {
   "cell_type": "markdown",
   "id": "bridal-spouse",
   "metadata": {},
   "source": [
    "**1**"
   ]
  },
  {
   "cell_type": "markdown",
   "id": "worldwide-battlefield",
   "metadata": {},
   "source": [
    "Thanks to our convenction for the heads and tails (1, 0). We find $\\mu$ to be equal to"
   ]
  },
  {
   "cell_type": "code",
   "execution_count": 3,
   "id": "emotional-abuse",
   "metadata": {},
   "outputs": [
    {
     "data": {
      "text/plain": [
       "0.49866666666666665"
      ]
     },
     "execution_count": 3,
     "metadata": {},
     "output_type": "execute_result"
    }
   ],
   "source": [
    "first_coin, random_coin, min_coin, _, _ , _ = experiment()\n",
    "(first_coin.sum() + random_coin.sum() + min_coin.sum()) / (len(first_coin) + len(random_coin) + len(min_coin))"
   ]
  },
  {
   "cell_type": "markdown",
   "id": "curious-geology",
   "metadata": {},
   "source": [
    "**2**"
   ]
  },
  {
   "cell_type": "code",
   "execution_count": 4,
   "id": "rolled-configuration",
   "metadata": {},
   "outputs": [],
   "source": [
    "# Run 100000 experiments\n",
    "experiments = []\n",
    "for _ in range(100000):\n",
    "    _, _, _, v_first, v_random, v_min = experiment()\n",
    "    experiments.append((v_first, v_random, v_min))\n",
    "firsts, randoms, mins = zip(*experiments)"
   ]
  },
  {
   "cell_type": "code",
   "execution_count": 5,
   "id": "about-photograph",
   "metadata": {},
   "outputs": [
    {
     "data": {
      "image/png": "[encoded data removed]",
      "text/plain": [
       "<Figure size 1152x432 with 1 Axes>"
      ]
     },
     "metadata": {},
     "output_type": "display_data"
    },
    {
     "data": {
      "image/png": "[encoded data removed]",
      "text/plain": [
       "<Figure size 1152x432 with 1 Axes>"
      ]
     },
     "metadata": {},
     "output_type": "display_data"
    },
    {
     "data": {
      "image/png": "[encoded data removed]",
      "text/plain": [
       "<Figure size 1152x432 with 1 Axes>"
      ]
     },
     "metadata": {},
     "output_type": "display_data"
    }
   ],
   "source": [
    "fig = plt.figure(figsize=(16,6))\n",
    "plt.title('$v_1$')\n",
    "sns.histplot(firsts);\n",
    "\n",
    "fig = plt.figure(figsize=(16,6))\n",
    "plt.title('$v_{random}$')\n",
    "sns.histplot(randoms);\n",
    "\n",
    "fig = plt.figure(figsize=(16,6))\n",
    "plt.title('$v_{mins}$')\n",
    "sns.histplot(mins);"
   ]
  },
  {
   "cell_type": "markdown",
   "id": "adopted-plaza",
   "metadata": {},
   "source": [
    "**3**"
   ]
  },
  {
   "cell_type": "markdown",
   "id": "acting-wilson",
   "metadata": {},
   "source": [
    "I will use another experiment because is not clear what either $v$, $\\mu$ means for the output (and all the raw data is to big to have on memory)"
   ]
  },
  {
   "cell_type": "code",
   "execution_count": 6,
   "id": "specified-classroom",
   "metadata": {},
   "outputs": [],
   "source": [
    "def full_experiment():\n",
    "    data = np.random.randint(0, 2, size=(10, 1000))\n",
    "    return data.sum()/(data.shape[0]*data.shape[1])\n",
    "\n",
    "data = [abs(full_experiment() - 0.5) for _ in range(100000)]"
   ]
  },
  {
   "cell_type": "markdown",
   "id": "rational-elephant",
   "metadata": {},
   "source": [
    "Now we know the following"
   ]
  },
  {
   "cell_type": "code",
   "execution_count": 7,
   "id": "later-truck",
   "metadata": {},
   "outputs": [],
   "source": [
    "import pandas as pd\n",
    "data = pd.DataFrame(data)\n",
    "\n",
    "epsilon = np.linspace(0, 0.02, 10000)"
   ]
  },
  {
   "cell_type": "code",
   "execution_count": 8,
   "id": "widespread-snake",
   "metadata": {},
   "outputs": [],
   "source": [
    "y = list(map(lambda e: (data > e).sum()[0]/data.shape[0], epsilon))\n",
    "hoeffding = list(map(lambda e: np.power(2*np.e, -2*(e**2)*(10*1000)), epsilon))"
   ]
  },
  {
   "cell_type": "code",
   "execution_count": 9,
   "id": "tracked-firmware",
   "metadata": {},
   "outputs": [],
   "source": [
    "p_aprox = pd.DataFrame({'$\\epsilon$': epsilon, 'f': '$P[|v - \\mu| > \\epsilon]$', 'y': y})\n",
    "hoeffding_pd = pd.DataFrame({'$\\epsilon$': epsilon, 'f': '$2e^{-2\\epsilon^2N}$', 'y': hoeffding})"
   ]
  },
  {
   "cell_type": "code",
   "execution_count": 10,
   "id": "informational-alias",
   "metadata": {},
   "outputs": [
    {
     "data": {
      "image/png": "[encoded data removed]",
      "text/plain": [
       "<Figure size 1152x432 with 1 Axes>"
      ]
     },
     "metadata": {},
     "output_type": "display_data"
    }
   ],
   "source": [
    "fig, ax = plt.subplots(figsize=(16,6))\n",
    "sns.lineplot(x='$\\epsilon$', y='y', hue='f', data=pd.concat([p_aprox, hoeffding_pd]));"
   ]
  },
  {
   "cell_type": "markdown",
   "id": "governing-perception",
   "metadata": {},
   "source": [
    "**4**"
   ]
  },
  {
   "cell_type": "markdown",
   "id": "under-option",
   "metadata": {},
   "source": [
    "The coins that don't obey the Hoeffding bound are coins that 'cause of the randomizer are skewed and because we are considering as N all the throws of all the coins, the surpase the Hoeffding bound (remember the blue line is an approximation to the value of the probability, note the real probability).\n",
    "\n",
    "This is the situation that the book mention on page 22. The bins example."
   ]
  },
  {
   "cell_type": "markdown",
   "id": "compact-tyler",
   "metadata": {},
   "source": [
    "**5**"
   ]
  },
  {
   "cell_type": "markdown",
   "id": "split-transport",
   "metadata": {},
   "source": [
    "We can compare the red marbles (in the example of bins in the book) with the heads (in our example), the bins are coins, and tails are the green marbles."
   ]
  },
  {
   "cell_type": "markdown",
   "id": "productive-anatomy",
   "metadata": {},
   "source": [
    "## 1.11"
   ]
  },
  {
   "cell_type": "markdown",
   "id": "regular-cliff",
   "metadata": {},
   "source": [
    "We are gien a data set $\\mathcal{D}$ of 25 training examples from an unknown target function $f: \\mathcal{X} \\to \\mathcal{Y}$, where $\\mathcal{X} = \\mathbb{R}$ and $\\mathcal{Y} = \\{ -1 , +1 \\}$. To learn $f$, we use a simple hypothesis set $\\mathcal{H} = \\{ h_1, h_2 \\}$ where $h_1$ is the constant $+1$ function and $h_2$ is the constant $-1$.\n",
    "\n",
    "We consider two learning algorithms, $S$ (smart) and $C$ (crazy). $S$ chooses the hypothesis that agrees the most with $\\mathcal{D}$ and $C$ chooses the other hypothesis deliberately. Let us see how these algorithms perform out of sample from the deterministic and probabilistic point of view. Assume in the probabilistic view that there is a probability distribution on $\\mathcal{X}$, and let $\\mathbb{P}[f(\\mathbf{x}) = +1] = p$."
   ]
  },
  {
   "cell_type": "markdown",
   "id": "requested-notice",
   "metadata": {},
   "source": [
    "1. Can $S$ produce a hypothesis that is guaranteed to perform better than random on any point outside $\\mathcal{D}$?\n",
    "\n",
    "2. Assume for the rest of the exercise that all the examples in $\\mathcal{D}$ have $y_n = +1$. Is it *possible* that the hypothesis that $C$ produces turns out to be better thatn the hypothesis that $S$ produces?\n",
    "\n",
    "3. If $p = 0.9$. what is the probability that $S$ will produce a better hypothesis than $C$?\n",
    "\n",
    "4. Is there any value of $p$ for which it is more likely than not that $C$ will produce a better hypothesis than $S$?"
   ]
  },
  {
   "cell_type": "markdown",
   "id": "alive-monaco",
   "metadata": {},
   "source": [
    "## Respuestas"
   ]
  },
  {
   "cell_type": "markdown",
   "id": "active-feature",
   "metadata": {},
   "source": [
    "**1**"
   ]
  },
  {
   "cell_type": "markdown",
   "id": "growing-genius",
   "metadata": {},
   "source": [
    "\"guaranteed to perform better than random on any point outside $\\mathcal{D}$\". This means that the hypothesis can't be erroneous in any point, and this is only possible if the unknown function corresponds to one of the hypothesis $h_1$ or $h_2$"
   ]
  },
  {
   "cell_type": "markdown",
   "id": "conventional-biography",
   "metadata": {},
   "source": [
    "**2**"
   ]
  },
  {
   "cell_type": "markdown",
   "id": "smart-johnston",
   "metadata": {},
   "source": [
    "Yes is possible, if the data set $\\mathcal{D}$ has a greater number of targets with the erroneous sign than there exists in $\\mathbb{R}$. Then $\\mathcal{C}$ will produce a better hypothesis."
   ]
  },
  {
   "cell_type": "markdown",
   "id": "swiss-classroom",
   "metadata": {},
   "source": [
    "**3**"
   ]
  },
  {
   "cell_type": "markdown",
   "id": "sixth-ethnic",
   "metadata": {},
   "source": [
    "This probability corresponds to select the majority of entries in the correct target. We can calculate this probability viewing it as 25 independent bernoulli trials.\n",
    "$$\n",
    " P (X \\le k) = \\sum_{i}^{k} \\binom{n}{i} p^i (1 - p)^{n - i} \n",
    "$$\n",
    "\n",
    "What is the probability that the number of samples with target $-1$ is less than half of the samples. Is another form of seeing the probability that we are searching for.\n",
    "\n",
    "$$\n",
    " = \\sum_{1}^{12} \\binom{25}{i} 0.1^{i} 0.9^{25-i}\n",
    "$$\n",
    "\n",
    "So the probability is"
   ]
  },
  {
   "cell_type": "code",
   "execution_count": 11,
   "id": "invalid-donor",
   "metadata": {},
   "outputs": [
    {
     "data": {
      "text/plain": [
       "0.9282100391473995"
      ]
     },
     "execution_count": 11,
     "metadata": {},
     "output_type": "execute_result"
    }
   ],
   "source": [
    "from scipy.special import binom\n",
    "sum(([binom(25, i) *(0.1**i) * (0.9**(25-i)) for i in range(1, 13) ]))"
   ]
  },
  {
   "cell_type": "markdown",
   "id": "indie-medline",
   "metadata": {},
   "source": [
    "**4**"
   ]
  },
  {
   "cell_type": "markdown",
   "id": "remarkable-auction",
   "metadata": {},
   "source": [
    "Ignoring the 'not' in the question for it to have sense"
   ]
  },
  {
   "cell_type": "markdown",
   "id": "early-answer",
   "metadata": {},
   "source": [
    "No, because the cummulative function for the binomial distribution has as its least narrow version the one with the probability $0.5$...This means that when the probability is uniform (has least information needs more samples to tell the truth), and the number for this is around 20."
   ]
  },
  {
   "attachments": {
    "84839218-4f5d-4040-b548-32d8c5ef4283.png": {
     "image/png": "[encoded data removed]"
    }
   },
   "cell_type": "markdown",
   "id": "internal-checklist",
   "metadata": {},
   "source": [
    "![image.png](attachment:84839218-4f5d-4040-b548-32d8c5ef4283.png)"
   ]
  },
  {
   "cell_type": "markdown",
   "id": "talented-fitness",
   "metadata": {},
   "source": [
    " $||\\theta^*|| \\over \\nu^2$"
   ]
  },
  {
   "cell_type": "markdown",
   "id": "stone-shelter",
   "metadata": {},
   "source": [
    "## Simular XOR"
   ]
  },
  {
   "cell_type": "markdown",
   "id": "mental-share",
   "metadata": {},
   "source": [
    "The approximation is done by creating two **and** gates with $w_1$ and $w_2$, and finally using $w_3$ for creating a **not** gate"
   ]
  },
  {
   "cell_type": "code",
   "execution_count": 12,
   "id": "three-moscow",
   "metadata": {},
   "outputs": [
    {
     "name": "stdout",
     "output_type": "stream",
     "text": [
      "[0 0] 0\n",
      "[0 1] 1\n",
      "[1 0] 1\n",
      "[1 1] 0\n"
     ]
    }
   ],
   "source": [
    "w_1 = np.array([1, -1, -1])\n",
    "w_2 = np.array([-1, 1, 1])\n",
    "w_3 = np.array([1, -1, -1])\n",
    "for i in [0, 1]:\n",
    "    for j in [0, 1]:\n",
    "        x = np.array([1, i, j])\n",
    "        h1 = np.sign(np.dot(w_1, x)) > 0\n",
    "        h2 = np.sign(np.dot(w_2, x)) > 0\n",
    "        print(x[1:], np.sign(np.dot(w_3, np.array([1, h1, h2]))))"
   ]
  }
 ],
 "metadata": {
  "kernelspec": {
   "display_name": "Python 3",
   "language": "python",
   "name": "python3"
  },
  "language_info": {
   "codemirror_mode": {
    "name": "ipython",
    "version": 3
   },
   "file_extension": ".py",
   "mimetype": "text/x-python",
   "name": "python",
   "nbconvert_exporter": "python",
   "pygments_lexer": "ipython3",
   "version": "3.8.5"
  }
 },
 "nbformat": 4,
 "nbformat_minor": 5
}
